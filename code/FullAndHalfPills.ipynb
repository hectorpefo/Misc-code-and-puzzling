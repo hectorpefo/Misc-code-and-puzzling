{
 "cells": [
  {
   "cell_type": "markdown",
   "metadata": {},
   "source": [
    "The scenarios yield (delta fulls, delta halves):\n",
    "\n",
    "- FF (-2,+1)\n",
    "- FH (-1,-1)\n",
    "- HHH (+0,-3) \n",
    "- HHF (-1,-1)\n",
    "\n",
    "...with probabilities (given F fulls and H halves):\n",
    "- P(FF) = F(F-1)/(F+H)(F+H-1)\n",
    "- P(FH) = 2FH/(F+H)(F+H-1)\n",
    "- P(HH) = H(H-1)/(F+H)(F+H-1)\n",
    "- P(HHF) = P(HH)F/(F+H-2)\n",
    "- P(HHH) = P(HH)(H-2)/(F+H-2)\n",
    "\n",
    "Let p(F,H) be the prob that I will get a full and a half on the 10th day conditional on my no having F fulls and H halves remaining.\n",
    "\n",
    "Then: p(1,1) = 1, p(0,3) = 0, and all other values of p can be computed based on P and the deltas. We will use recursion."
   ]
  },
  {
   "cell_type": "code",
   "execution_count": 12,
   "metadata": {},
   "outputs": [
    {
     "name": "stdout",
     "output_type": "stream",
     "text": [
      "0.7901197017268449\n"
     ]
    }
   ],
   "source": [
    "pStore = {(1,1):1,(0,3):0}\n",
    "\n",
    "def p(F,H):\n",
    "    if not (F,H) in pStore:\n",
    "        totProb = 0\n",
    "        # get two fulls\n",
    "        if F >= 2:\n",
    "            totProb += p(F-2,H+1) * F*(F-1)/((F+H)*(F+H-1))\n",
    "        # get full and half\n",
    "        if F >= 1 and H >= 1:\n",
    "            totProb += p(F-1,H-1) * 2*F*H/((F+H)*(F+H-1))\n",
    "        # get half half half\n",
    "        if H >= 3:\n",
    "            totProb += p(F,H-3) * H*(H-1)*(H-2)/((F+H)*(F+H-1)*(F+H-2))\n",
    "        # get half half full\n",
    "        if H >= 2 and F >= 1:\n",
    "            totProb += p(F-1,H-1) * H*(H-1)*F/((H+F)*(H+F-1)*(H+F-2))\n",
    "        pStore[(F,H)] = totProb\n",
    "    return pStore[(F,H)]\n",
    "\n",
    "print(p(15,0))\n",
    "        \n"
   ]
  },
  {
   "cell_type": "markdown",
   "metadata": {},
   "source": [
    "Now to sanity-check with a simulation."
   ]
  },
  {
   "cell_type": "code",
   "execution_count": 5,
   "metadata": {},
   "outputs": [
    {
     "name": "stdout",
     "output_type": "stream",
     "text": [
      "0.790418\n"
     ]
    }
   ],
   "source": [
    "from random import randint\n",
    "nReps = 1000000\n",
    "\n",
    "nWins = 0\n",
    "F=1\n",
    "H=0\n",
    "\n",
    "def randPop(l):\n",
    "    return l.pop(randint(0,len(l)-1))\n",
    "\n",
    "for _ in range(nReps):\n",
    "    sitch = [F]*15\n",
    "    while True:\n",
    "        if sitch == [H,F]:\n",
    "            nWins += 1\n",
    "            break\n",
    "        elif sitch == [H,H,H]:\n",
    "            break\n",
    "\n",
    "        A = randPop(sitch)\n",
    "        B = randPop(sitch)\n",
    "        if A == F and B == F:\n",
    "            sitch.append(H)\n",
    "        elif A == H and B == H:\n",
    "            C = randPop(sitch)\n",
    "            if C == F:\n",
    "                sitch.append(H)\n",
    "        sitch.sort()\n",
    "print(nWins/nReps)"
   ]
  },
  {
   "cell_type": "markdown",
   "metadata": {},
   "source": [
    "Looks like we're good."
   ]
  }
 ],
 "metadata": {
  "kernelspec": {
   "display_name": "Python 3.8.8 ('base')",
   "language": "python",
   "name": "python3"
  },
  "language_info": {
   "codemirror_mode": {
    "name": "ipython",
    "version": 3
   },
   "file_extension": ".py",
   "mimetype": "text/x-python",
   "name": "python",
   "nbconvert_exporter": "python",
   "pygments_lexer": "ipython3",
   "version": "3.8.8"
  },
  "orig_nbformat": 4,
  "vscode": {
   "interpreter": {
    "hash": "593d8481bb1f4d391712c7531b9b8dc18f7ec33a81f27f6fdcac63c18fa86871"
   }
  }
 },
 "nbformat": 4,
 "nbformat_minor": 2
}
